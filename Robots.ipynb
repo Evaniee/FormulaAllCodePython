{
 "cells": [
  {
   "attachments": {},
   "cell_type": "markdown",
   "metadata": {},
   "source": [
    "### Python Setup\n",
    "Run the following code to import the required modules.  \n",
    "Requires installing pyserial. If it is not already installed it will attempt to download via PIP  \n",
    "  \n",
    "This will also define a `robot` class to help simplify some of the setup and commands you will have to use"
   ]
  },
  {
   "cell_type": "code",
   "execution_count": null,
   "metadata": {},
   "outputs": [],
   "source": [
    "# Install Requirements\n",
    "import time             # time.sleep allows for delaying execution\n",
    "\n",
    "try:\n",
    "    import serial\n",
    "except:\n",
    "    print('Attempting to install pyserial')\n",
    "    !pip install -q pyserial\n",
    "    import serial\n",
    "\n",
    "\n",
    "# Robot Class\n",
    "class robot:\n",
    "    \n",
    "    # Constructor - Called on creation of an object\n",
    "    def __init__(self, port_num) -> None:\n",
    "        self.port = serial.Serial(port = '\\\\\\\\.\\\\COM' + str(port_num))  # Set port to refer to a serial COM port of a given number\n",
    "\n",
    "    # Destructor - Called on destruction of an object\n",
    "    def __del__(self) -> None:\n",
    "        self.port.close()       # Close Serial COM port\n",
    "\n",
    "    # Call an API Command. Does not get a response.\n",
    "    def command(self, command_str: str) -> None:\n",
    "        self.port.write((command_str + '\\n').encode())  # Write encoded string to serial port of robot\n",
    "    \n",
    "    # Call an API Command. Returns info from the port will need to be casted to required type.\n",
    "    # Make sure to only use this if you need a response or the program will halt.\n",
    "    def commandCallback(self, command_str: str) -> None:\n",
    "        self.command(command_str)                       # Run normal command\n",
    "        return self.port.readline().strip()             # Strip newline characters from output"
   ]
  },
  {
   "attachments": {},
   "cell_type": "markdown",
   "metadata": {},
   "source": [
    "---\n",
    "### Robot Setup\n",
    "1. Ensure Bluetooth is turned on.  \n",
    "\t* Search for 'Bluetooth' in the start menu search bar and select 'Bluetooth & other devices settings'  \n",
    "3. Switch the robot on, a LED should show.  \n",
    "4. Select the device from the list of devices.  \n",
    "\t* Sometimes the devices will show as 'Unknown Device'. Try and select one and it will tell you the name of the device, check it matches with the name on the robot's screen.  \n",
    "\t* If you are asked for a code enter the default code of 1234.  \n",
    "5. Find the COM port(s) the robot is using to communicate.  \n",
    "\t* There are many ways to do this:  \n",
    "\t\t1. If you are quick you can select the pop-up in the bottom right that appears when the device is ready.  \n",
    "\t\t2. If not you can go into the 'Control Panel' then 'Hardware and Sound' then 'Devices and Printers'\n",
    "\t\t\t* You can then find the device that you are paired with, double click it and go to 'Services'. Here you will see which ports your device is using.\n",
    "\t\t3. If none of the previous options worked search for 'cmd' in the start menu search bar and enter `rundll32.exe shell32.dll,Control_RunDLL bthprops.cpl,,2 `\n",
    "\t* You should be able to find the outgoing port using one of these methods. Keep a note of it for the next step.\n",
    "6. Now you have your outgoing port number you can run the program after changing the `com_port` variable in the second code cell to match your own number."
   ]
  },
  {
   "cell_type": "code",
   "execution_count": null,
   "metadata": {},
   "outputs": [],
   "source": [
    "com_port = 6    # CHANGE ME TO YOUR COM PORT!\n",
    "\n",
    "my_robot = robot(com_port) # Create an instance of robot using given COM port\n",
    "# my_robot.command(\"PlayNote 50 100\")"
   ]
  },
  {
   "attachments": {},
   "cell_type": "markdown",
   "metadata": {},
   "source": [
    "---\n",
    "### Demo - IR Sensors\n",
    "A basic demo showing how you can read off the IR sensors"
   ]
  },
  {
   "cell_type": "code",
   "execution_count": null,
   "metadata": {},
   "outputs": [],
   "source": [
    "print('       Left: ', int(my_robot.commandCallback('ReadIR 0')))\n",
    "print(' Front Left: ', int(my_robot.commandCallback('ReadIR 1')))\n",
    "print('      Front: ', int(my_robot.commandCallback('ReadIR 2')))\n",
    "print('Front Right: ', int(my_robot.commandCallback('ReadIR 3')))\n",
    "print('      Right: ', int(my_robot.commandCallback('ReadIR 4')))\n",
    "print(' Rear Right: ', int(my_robot.commandCallback('ReadIR 5')))\n",
    "print('       Rear: ', int(my_robot.commandCallback('ReadIR 6')))\n",
    "print('  Rear Left: ', int(my_robot.commandCallback('ReadIR 7')))"
   ]
  },
  {
   "attachments": {},
   "cell_type": "markdown",
   "metadata": {},
   "source": [
    "### Demo - Line Sensors\n",
    "A basic demo showing how you can read off the IR sensors"
   ]
  },
  {
   "cell_type": "code",
   "execution_count": null,
   "metadata": {},
   "outputs": [],
   "source": [
    "print('  Line Left: ', int(my_robot.commandCallback('ReadLine 0')))\n",
    "print(' Line Right: ', int(my_robot.commandCallback('ReadLine 1')))"
   ]
  },
  {
   "attachments": {},
   "cell_type": "markdown",
   "metadata": {},
   "source": [
    "### Demo - Square Movement\n",
    "A basic demo showing how you can make the robot move in a square"
   ]
  },
  {
   "cell_type": "code",
   "execution_count": null,
   "metadata": {},
   "outputs": [],
   "source": [
    "for i in range(0, 4):\n",
    "    my_robot.command('Left 90')\n",
    "    my_robot.command('Forwards 200')"
   ]
  },
  {
   "attachments": {},
   "cell_type": "markdown",
   "metadata": {},
   "source": [
    "---\n",
    "### Task - Move Until Wall\n",
    "Try to get the robot to move forwards until it detects a wall in front of it."
   ]
  },
  {
   "cell_type": "code",
   "execution_count": null,
   "metadata": {},
   "outputs": [],
   "source": [
    "### TODO: WRITE THE CODE!"
   ]
  },
  {
   "attachments": {},
   "cell_type": "markdown",
   "metadata": {},
   "source": [
    "### Task - Follow Straight Line\n",
    "Try to get the robot to move forward while it detects a line underneath it."
   ]
  },
  {
   "cell_type": "code",
   "execution_count": null,
   "metadata": {},
   "outputs": [],
   "source": [
    "### TODO: WRITE THE CODE!"
   ]
  },
  {
   "attachments": {},
   "cell_type": "markdown",
   "metadata": {},
   "source": [
    "---\n",
    "### Help\n",
    "[Command Reference](https://www.matrixtsl.com/wiki/index.php?title=Component:_Formula_AllCode_API_(Mechatronics)#Simulation_macro_reference)"
   ]
  }
 ],
 "metadata": {
  "kernelspec": {
   "display_name": "Python 3",
   "language": "python",
   "name": "python3"
  },
  "language_info": {
   "codemirror_mode": {
    "name": "ipython",
    "version": 3
   },
   "file_extension": ".py",
   "mimetype": "text/x-python",
   "name": "python",
   "nbconvert_exporter": "python",
   "pygments_lexer": "ipython3",
   "version": "3.11.3"
  },
  "orig_nbformat": 4,
  "vscode": {
   "interpreter": {
    "hash": "5238573367df39f7286bb46f9ff5f08f63a01a80960060ce41e3c79b190280fa"
   }
  }
 },
 "nbformat": 4,
 "nbformat_minor": 2
}
